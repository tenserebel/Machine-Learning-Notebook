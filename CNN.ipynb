{
  "nbformat": 4,
  "nbformat_minor": 0,
  "metadata": {
    "colab": {
      "provenance": [],
      "authorship_tag": "ABX9TyN7zkqpqfKPEeCq8A1Pcy2t",
      "include_colab_link": true
    },
    "kernelspec": {
      "name": "python3",
      "display_name": "Python 3"
    },
    "language_info": {
      "name": "python"
    }
  },
  "cells": [
    {
      "cell_type": "markdown",
      "metadata": {
        "id": "view-in-github",
        "colab_type": "text"
      },
      "source": [
        "<a href=\"https://colab.research.google.com/github/tenserebel/Machine-Learning-Notebook/blob/main/CNN.ipynb\" target=\"_parent\"><img src=\"https://colab.research.google.com/assets/colab-badge.svg\" alt=\"Open In Colab\"/></a>"
      ]
    },
    {
      "cell_type": "code",
      "execution_count": null,
      "metadata": {
        "id": "_a9gBSOqtd9W"
      },
      "outputs": [],
      "source": [
        "import tensorflow as tp\n",
        "from tensorflow.keras import datasets,layers, models"
      ]
    },
    {
      "cell_type": "code",
      "source": [
        "(train_images,train_labels), (test_images,test_labels)=datasets.cifar10.load_data()"
      ],
      "metadata": {
        "colab": {
          "base_uri": "https://localhost:8080/"
        },
        "id": "Tn3UEcSVttt_",
        "outputId": "135e2296-a363-4e36-ce8d-3c1c20ee814a"
      },
      "execution_count": null,
      "outputs": [
        {
          "output_type": "stream",
          "name": "stdout",
          "text": [
            "Downloading data from https://www.cs.toronto.edu/~kriz/cifar-10-python.tar.gz\n",
            "170498071/170498071 [==============================] - 3s 0us/step\n"
          ]
        }
      ]
    },
    {
      "cell_type": "code",
      "source": [
        "train_images, test_images=train_images/255, test_images/255"
      ],
      "metadata": {
        "id": "SWU3UPMOt3vv"
      },
      "execution_count": null,
      "outputs": []
    },
    {
      "cell_type": "code",
      "source": [
        "model = models.Sequential()"
      ],
      "metadata": {
        "id": "kjL8LRQEt-K2"
      },
      "execution_count": null,
      "outputs": []
    },
    {
      "cell_type": "code",
      "source": [
        "model.add(layers.Conv2D(32, (3, 3), activation='relu', input_shape=(32, 32, 3)))"
      ],
      "metadata": {
        "id": "eAzZIm0auXol"
      },
      "execution_count": null,
      "outputs": []
    },
    {
      "cell_type": "code",
      "source": [
        "model.add(layers.MaxPooling2D((2, 2)))"
      ],
      "metadata": {
        "id": "qFpeRg8WuXkH"
      },
      "execution_count": null,
      "outputs": []
    },
    {
      "cell_type": "code",
      "source": [
        "model.add(layers.Conv2D(64, (3, 3), activation='relu'))"
      ],
      "metadata": {
        "id": "rUM5jDYuue3c"
      },
      "execution_count": null,
      "outputs": []
    },
    {
      "cell_type": "code",
      "source": [
        "model.add(layers.MaxPooling2D((2, 2)))"
      ],
      "metadata": {
        "id": "Xqyz1DS6ugiM"
      },
      "execution_count": null,
      "outputs": []
    },
    {
      "cell_type": "code",
      "source": [
        "model.add(layers.Conv2D(64, (3, 3), activation='relu'))"
      ],
      "metadata": {
        "id": "H2ui0sT0uiMl"
      },
      "execution_count": null,
      "outputs": []
    },
    {
      "cell_type": "code",
      "source": [
        "model.add(layers.Flatten())"
      ],
      "metadata": {
        "id": "m8xwevmJukUd"
      },
      "execution_count": null,
      "outputs": []
    },
    {
      "cell_type": "code",
      "source": [
        "model.add(layers.Dense(64,activation='relu'))"
      ],
      "metadata": {
        "id": "iC-tU-MCumiM"
      },
      "execution_count": null,
      "outputs": []
    },
    {
      "cell_type": "code",
      "source": [
        "model.add(layers.Dense(10))"
      ],
      "metadata": {
        "id": "YxJgtA2munuU"
      },
      "execution_count": null,
      "outputs": []
    },
    {
      "cell_type": "code",
      "source": [
        "model.compile(optimizer='SGD',loss=tp.keras.losses.SparseCategoricalCrossentropy(from_logits=True),metrics=['accuracy'])\n"
      ],
      "metadata": {
        "id": "e1tfeCChupgs"
      },
      "execution_count": null,
      "outputs": []
    },
    {
      "cell_type": "code",
      "source": [
        "history=model.fit(train_images, train_labels, epochs=10, validation_data=(test_images,test_labels))"
      ],
      "metadata": {
        "colab": {
          "base_uri": "https://localhost:8080/"
        },
        "id": "Vty9Yl1cuqSd",
        "outputId": "d75c0722-1946-48ad-f23b-4b4cebfc0d8f"
      },
      "execution_count": null,
      "outputs": [
        {
          "output_type": "stream",
          "name": "stdout",
          "text": [
            "Epoch 1/10\n",
            "1563/1563 [==============================] - 86s 55ms/step - loss: 2.0411 - accuracy: 0.2463 - val_loss: 1.7659 - val_accuracy: 0.3559\n",
            "Epoch 2/10\n",
            "1563/1563 [==============================] - 83s 53ms/step - loss: 1.6728 - accuracy: 0.3921 - val_loss: 1.6475 - val_accuracy: 0.4140\n",
            "Epoch 3/10\n",
            "1563/1563 [==============================] - 85s 54ms/step - loss: 1.4889 - accuracy: 0.4645 - val_loss: 1.6878 - val_accuracy: 0.3859\n",
            "Epoch 4/10\n",
            "1563/1563 [==============================] - 80s 51ms/step - loss: 1.3642 - accuracy: 0.5124 - val_loss: 1.3634 - val_accuracy: 0.5178\n",
            "Epoch 5/10\n",
            "1563/1563 [==============================] - 82s 52ms/step - loss: 1.2781 - accuracy: 0.5467 - val_loss: 1.3089 - val_accuracy: 0.5364\n",
            "Epoch 6/10\n",
            "1563/1563 [==============================] - 81s 52ms/step - loss: 1.2041 - accuracy: 0.5745 - val_loss: 1.1930 - val_accuracy: 0.5780\n",
            "Epoch 7/10\n",
            "1563/1563 [==============================] - 82s 53ms/step - loss: 1.1415 - accuracy: 0.5982 - val_loss: 1.2355 - val_accuracy: 0.5571\n",
            "Epoch 8/10\n",
            "1563/1563 [==============================] - 82s 52ms/step - loss: 1.0880 - accuracy: 0.6173 - val_loss: 1.1296 - val_accuracy: 0.6023\n",
            "Epoch 9/10\n",
            "1563/1563 [==============================] - 82s 53ms/step - loss: 1.0407 - accuracy: 0.6358 - val_loss: 1.1085 - val_accuracy: 0.6063\n",
            "Epoch 10/10\n",
            "1563/1563 [==============================] - 82s 53ms/step - loss: 0.9974 - accuracy: 0.6503 - val_loss: 1.1753 - val_accuracy: 0.5969\n"
          ]
        }
      ]
    },
    {
      "cell_type": "code",
      "source": [
        "test_loss, test_acc = model.evaluate(test_images, test_labels, verbose=2)\n"
      ],
      "metadata": {
        "colab": {
          "base_uri": "https://localhost:8080/"
        },
        "id": "Zy7HTQCxus-N",
        "outputId": "adca0e54-1278-411d-d28a-c92dfca17751"
      },
      "execution_count": null,
      "outputs": [
        {
          "output_type": "stream",
          "name": "stdout",
          "text": [
            "313/313 - 4s - loss: 1.1753 - accuracy: 0.5969 - 4s/epoch - 14ms/step\n"
          ]
        }
      ]
    },
    {
      "cell_type": "code",
      "source": [
        "print(test_acc)\n"
      ],
      "metadata": {
        "colab": {
          "base_uri": "https://localhost:8080/"
        },
        "id": "kseLtMudx8eh",
        "outputId": "3b53d8d1-197d-4ba4-9739-96f7b6fead0b"
      },
      "execution_count": null,
      "outputs": [
        {
          "output_type": "stream",
          "name": "stdout",
          "text": [
            "0.5968999862670898\n"
          ]
        }
      ]
    },
    {
      "cell_type": "code",
      "source": [
        "model.summary()"
      ],
      "metadata": {
        "id": "dJyVQFbUx_Jw",
        "outputId": "704782ea-a981-4409-9673-03114b76768e",
        "colab": {
          "base_uri": "https://localhost:8080/"
        }
      },
      "execution_count": null,
      "outputs": [
        {
          "output_type": "stream",
          "name": "stdout",
          "text": [
            "Model: \"sequential\"\n",
            "_________________________________________________________________\n",
            " Layer (type)                Output Shape              Param #   \n",
            "=================================================================\n",
            " conv2d (Conv2D)             (None, 30, 30, 32)        896       \n",
            "                                                                 \n",
            " max_pooling2d (MaxPooling2D  (None, 15, 15, 32)       0         \n",
            " )                                                               \n",
            "                                                                 \n",
            " conv2d_1 (Conv2D)           (None, 13, 13, 64)        18496     \n",
            "                                                                 \n",
            " max_pooling2d_1 (MaxPooling  (None, 6, 6, 64)         0         \n",
            " 2D)                                                             \n",
            "                                                                 \n",
            " conv2d_2 (Conv2D)           (None, 4, 4, 64)          36928     \n",
            "                                                                 \n",
            " flatten (Flatten)           (None, 1024)              0         \n",
            "                                                                 \n",
            " dense (Dense)               (None, 64)                65600     \n",
            "                                                                 \n",
            " dense_1 (Dense)             (None, 10)                650       \n",
            "                                                                 \n",
            "=================================================================\n",
            "Total params: 122,570\n",
            "Trainable params: 122,570\n",
            "Non-trainable params: 0\n",
            "_________________________________________________________________\n"
          ]
        }
      ]
    },
    {
      "cell_type": "code",
      "source": [],
      "metadata": {
        "id": "CzPdNl-ZyBji"
      },
      "execution_count": null,
      "outputs": []
    }
  ]
}